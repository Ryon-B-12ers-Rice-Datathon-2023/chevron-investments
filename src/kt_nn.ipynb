{
 "cells": [
  {
   "cell_type": "code",
   "execution_count": 1,
   "metadata": {},
   "outputs": [],
   "source": [
    "import tensorflow as tf\n",
    "from tensorflow.keras import layers\n",
    "\n",
    "import keras_tuner\n",
    "\n",
    "import numpy as np\n",
    "import pandas as pd\n",
    "\n",
    "from sklearn.preprocessing import LabelEncoder"
   ]
  },
  {
   "cell_type": "code",
   "execution_count": 2,
   "metadata": {},
   "outputs": [],
   "source": [
    "df = pd.read_csv(r'../data/transformed_data.csv')\n",
    "df_val = pd.read_csv(r'../data/transformed_2020_data.csv')\n",
    "\n",
    "label_encoder = LabelEncoder()\n",
    "label_encoder.fit(df['StateCode'])\n",
    "\n",
    "X = df.drop(columns=['TotalAmountofAssistance']).values\n",
    "y = df['TotalAmountofAssistance'].values\n",
    "X[:, 0] = label_encoder.transform(X[:, 0])\n",
    "\n",
    "\n",
    "X_val = df_val.drop(columns=['TotalAmountofAssistance']).values\n",
    "y_val = df_val['TotalAmountofAssistance'].values\n",
    "X_val[:, 0] = label_encoder.transform(X_val[:, 0])\n",
    "\n",
    "\n",
    "X = X.astype('float32')\n",
    "y = y.astype('float32')\n",
    "X_val = X_val.astype('float32')\n",
    "y_val = y_val.astype('float32')"
   ]
  },
  {
   "cell_type": "code",
   "execution_count": 3,
   "metadata": {},
   "outputs": [
    {
     "name": "stdout",
     "output_type": "stream",
     "text": [
      "INFO:tensorflow:Reloading Tuner from .\\untitled_project\\tuner0.json\n"
     ]
    }
   ],
   "source": [
    "def build_model(hp):\n",
    "    model = tf.keras.Sequential()\n",
    "\n",
    "    model.add(layers.Dense(hp.Choice('units', [8, 16, 32]), activation='sigmoid', input_shape=(X.shape[1],)))\n",
    "    model.add(layers.Dense(hp.Choice('units', [8, 16, 32]), activation='relu'))\n",
    "    model.add(layers.Dense(1, activation='linear'))\n",
    "\n",
    "\n",
    "    lr = hp.Float(\"lr\", min_value=1e-4, max_value=1e-2, sampling=\"log\")\n",
    "    optimizer = tf.keras.optimizers.Adam(learning_rate=lr)\n",
    "    loss = tf.keras.losses.MeanSquaredError()\n",
    "    metrics = tf.keras.metrics.RootMeanSquaredError()\n",
    "\n",
    "    model.compile(\n",
    "        optimizer=optimizer,\n",
    "        loss=loss,\n",
    "        metrics=[metrics]\n",
    "    )\n",
    "\n",
    "    return model\n",
    "\n",
    "\n",
    "build_model(keras_tuner.HyperParameters())\n",
    "\n",
    "tuner = keras_tuner.RandomSearch(\n",
    "    hypermodel=build_model,\n",
    "    objective=\"val_loss\",\n",
    "    max_trials=5\n",
    ")\n"
   ]
  },
  {
   "cell_type": "code",
   "execution_count": 4,
   "metadata": {},
   "outputs": [
    {
     "name": "stdout",
     "output_type": "stream",
     "text": [
      "Search space summary\n",
      "Default search space size: 2\n",
      "units (Choice)\n",
      "{'default': 8, 'conditions': [], 'values': [8, 16, 32], 'ordered': True}\n",
      "lr (Float)\n",
      "{'default': 0.0001, 'conditions': [], 'min_value': 0.0001, 'max_value': 0.01, 'step': None, 'sampling': 'log'}\n"
     ]
    }
   ],
   "source": [
    "tuner.search_space_summary()"
   ]
  },
  {
   "cell_type": "code",
   "execution_count": 5,
   "metadata": {},
   "outputs": [
    {
     "ename": "KeyError",
     "evalue": "<keras_tuner.engine.trial.Trial object at 0x000001F1D5E4E310>",
     "output_type": "error",
     "traceback": [
      "\u001b[1;31m---------------------------------------------------------------------------\u001b[0m",
      "\u001b[1;31mKeyError\u001b[0m                                  Traceback (most recent call last)",
      "Cell \u001b[1;32mIn[5], line 2\u001b[0m\n\u001b[0;32m      1\u001b[0m stop_early \u001b[39m=\u001b[39m tf\u001b[39m.\u001b[39mkeras\u001b[39m.\u001b[39mcallbacks\u001b[39m.\u001b[39mEarlyStopping(monitor\u001b[39m=\u001b[39m\u001b[39m'\u001b[39m\u001b[39mval_loss\u001b[39m\u001b[39m'\u001b[39m, patience\u001b[39m=\u001b[39m\u001b[39m5\u001b[39m)\n\u001b[1;32m----> 2\u001b[0m tuner\u001b[39m.\u001b[39;49msearch(X, y, epochs\u001b[39m=\u001b[39;49m\u001b[39m5\u001b[39;49m, validation_data\u001b[39m=\u001b[39;49m(X_val, y_val), callbacks\u001b[39m=\u001b[39;49m[stop_early])\n",
      "File \u001b[1;32mc:\\Users\\danie\\Projects\\chevron_investment\\venv\\lib\\site-packages\\keras_tuner\\engine\\base_tuner.py:200\u001b[0m, in \u001b[0;36mBaseTuner.search\u001b[1;34m(self, *fit_args, **fit_kwargs)\u001b[0m\n\u001b[0;32m    198\u001b[0m \u001b[39mwhile\u001b[39;00m \u001b[39mTrue\u001b[39;00m:\n\u001b[0;32m    199\u001b[0m     \u001b[39mself\u001b[39m\u001b[39m.\u001b[39mpre_create_trial()\n\u001b[1;32m--> 200\u001b[0m     trial \u001b[39m=\u001b[39m \u001b[39mself\u001b[39;49m\u001b[39m.\u001b[39;49moracle\u001b[39m.\u001b[39;49mcreate_trial(\u001b[39mself\u001b[39;49m\u001b[39m.\u001b[39;49mtuner_id)\n\u001b[0;32m    201\u001b[0m     \u001b[39mif\u001b[39;00m trial\u001b[39m.\u001b[39mstatus \u001b[39m==\u001b[39m trial_module\u001b[39m.\u001b[39mTrialStatus\u001b[39m.\u001b[39mSTOPPED:\n\u001b[0;32m    202\u001b[0m         \u001b[39m# Oracle triggered exit.\u001b[39;00m\n\u001b[0;32m    203\u001b[0m         tf\u001b[39m.\u001b[39mget_logger()\u001b[39m.\u001b[39minfo(\u001b[39m\"\u001b[39m\u001b[39mOracle triggered exit\u001b[39m\u001b[39m\"\u001b[39m)\n",
      "File \u001b[1;32mc:\\Users\\danie\\Projects\\chevron_investment\\venv\\lib\\site-packages\\keras_tuner\\engine\\oracle.py:104\u001b[0m, in \u001b[0;36msynchronized.<locals>.wrapped_func\u001b[1;34m(*args, **kwargs)\u001b[0m\n\u001b[0;32m    102\u001b[0m     LOCKS[oracle]\u001b[39m.\u001b[39macquire()\n\u001b[0;32m    103\u001b[0m     THREADS[oracle] \u001b[39m=\u001b[39m thread_name\n\u001b[1;32m--> 104\u001b[0m ret_val \u001b[39m=\u001b[39m func(\u001b[39m*\u001b[39margs, \u001b[39m*\u001b[39m\u001b[39m*\u001b[39mkwargs)\n\u001b[0;32m    105\u001b[0m \u001b[39mif\u001b[39;00m need_acquire:\n\u001b[0;32m    106\u001b[0m     THREADS[oracle] \u001b[39m=\u001b[39m \u001b[39mNone\u001b[39;00m\n",
      "File \u001b[1;32mc:\\Users\\danie\\Projects\\chevron_investment\\venv\\lib\\site-packages\\keras_tuner\\engine\\oracle.py:302\u001b[0m, in \u001b[0;36mOracle.create_trial\u001b[1;34m(self, tuner_id)\u001b[0m\n\u001b[0;32m    300\u001b[0m \u001b[39m# Pick the Trials waiting for retry first.\u001b[39;00m\n\u001b[0;32m    301\u001b[0m \u001b[39mif\u001b[39;00m \u001b[39mlen\u001b[39m(\u001b[39mself\u001b[39m\u001b[39m.\u001b[39m_retry_queue) \u001b[39m>\u001b[39m \u001b[39m0\u001b[39m:\n\u001b[1;32m--> 302\u001b[0m     trial \u001b[39m=\u001b[39m \u001b[39mself\u001b[39;49m\u001b[39m.\u001b[39;49mtrials[\u001b[39mself\u001b[39;49m\u001b[39m.\u001b[39;49m_retry_queue\u001b[39m.\u001b[39;49mpop()]\n\u001b[0;32m    303\u001b[0m     trial\u001b[39m.\u001b[39mstatus \u001b[39m=\u001b[39m trial_module\u001b[39m.\u001b[39mTrialStatus\u001b[39m.\u001b[39mRUNNING\n\u001b[0;32m    304\u001b[0m     \u001b[39mself\u001b[39m\u001b[39m.\u001b[39mongoing_trials[tuner_id] \u001b[39m=\u001b[39m trial\n",
      "\u001b[1;31mKeyError\u001b[0m: <keras_tuner.engine.trial.Trial object at 0x000001F1D5E4E310>"
     ]
    }
   ],
   "source": [
    "stop_early = tf.keras.callbacks.EarlyStopping(monitor='val_loss', patience=5)\n",
    "tuner.search(X, y, epochs=5, validation_data=(X_val, y_val), callbacks=[stop_early])"
   ]
  },
  {
   "attachments": {},
   "cell_type": "markdown",
   "metadata": {},
   "source": [
    "`"
   ]
  }
 ],
 "metadata": {
  "kernelspec": {
   "display_name": "venv",
   "language": "python",
   "name": "python3"
  },
  "language_info": {
   "codemirror_mode": {
    "name": "ipython",
    "version": 3
   },
   "file_extension": ".py",
   "mimetype": "text/x-python",
   "name": "python",
   "nbconvert_exporter": "python",
   "pygments_lexer": "ipython3",
   "version": "3.9.9"
  },
  "orig_nbformat": 4,
  "vscode": {
   "interpreter": {
    "hash": "8f44817b5562e7e0b11fcb3564e2c72dc1905b564c23afc95288e9b9927cb9b6"
   }
  }
 },
 "nbformat": 4,
 "nbformat_minor": 2
}
