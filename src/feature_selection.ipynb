{
 "cells": [
  {
   "cell_type": "code",
   "execution_count": 5,
   "metadata": {},
   "outputs": [],
   "source": [
    "import numpy as np\n",
    "import pandas as pd\n",
    "\n",
    "from sklearn.preprocessing import LabelEncoder, OneHotEncoder\n",
    "from sklearn.ensemble import RandomForestRegressor\n",
    "from sklearn.model_selection import train_test_split, KFold\n",
    "from sklearn.feature_selection import SelectFromModel"
   ]
  },
  {
   "cell_type": "code",
   "execution_count": 6,
   "metadata": {},
   "outputs": [],
   "source": [
    "kf = KFold(n_splits = 5)\n",
    "\n",
    "def rmse(pred, true):\n",
    "    err = pred - true\n",
    "    return np.sqrt(np.dot(err, err) / true.shape[0])"
   ]
  },
  {
   "cell_type": "code",
   "execution_count": 3,
   "metadata": {},
   "outputs": [],
   "source": [
    "df = pd.read_csv(r'../data/transformed_data.csv')\n",
    "\n",
    "label_encoder = LabelEncoder()\n",
    "label_encoder.fit(df['StateCode'])\n",
    "\n",
    "X = df.drop(columns=['TotalAmountofAssistance'])\n",
    "y = df['TotalAmountofAssistance']\n",
    "\n",
    "X_train, X_test, y_train, y_test = train_test_split(X, y, test_size=0.1)\n",
    "\n",
    "X_train = X_train.values\n",
    "y_train = y_train.values\n",
    "X_test = X_test.values\n",
    "y_test = y_test.values\n",
    "\n",
    "X_train[:, 0] = label_encoder.transform(X_train[:, 0])\n",
    "X_test[:, 0] = label_encoder.transform(X_test[:, 0])"
   ]
  },
  {
   "cell_type": "code",
   "execution_count": 4,
   "metadata": {},
   "outputs": [
    {
     "name": "stdout",
     "output_type": "stream",
     "text": [
      "15999041.325932425\n",
      "*********\n",
      "24971011.138569973\n",
      "*********\n",
      "Index(['CO2 Emissions (Mmt)', 'TotalNumberofInvestments', 'GETCB', 'HYTCB',\n",
      "       'NCPRB', 'NUETB', 'REPRB', 'SOTCB', 'TEPRB', 'TETCB', 'WDEXB', 'WDPRB',\n",
      "       'WDTCB', 'WSTCB', 'WWPRB', 'WYTCB'],\n",
      "      dtype='object')\n"
     ]
    }
   ],
   "source": [
    "rf = RandomForestRegressor(n_estimators=1000, max_features=1)\n",
    "rf.fit(X_train, y_train)\n",
    "\n",
    "sel = SelectFromModel(rf)\n",
    "\n",
    "print(rmse(rf.predict(X_train), y_train))\n",
    "print('*********')\n",
    "print(rmse(rf.predict(X_test), y_test))\n",
    "\n",
    "print('*********')\n",
    "\n",
    "important_vars = sel.get_support()\n",
    "print(df.columns.drop('TotalAmountofAssistance')[important_vars])"
   ]
  },
  {
   "attachments": {},
   "cell_type": "markdown",
   "metadata": {},
   "source": [
    "16386501.980113758\n",
    "***\n",
    "34830858.23750078\n",
    "***\n",
    "Index(['TotalNumberofInvestments', 'BFFDB', 'CLPRB', 'CLPRP', 'GETCB', 'NCPRB',\n",
    "       'NGMPB', 'NGMPP', 'NUETB', 'SOTCB', 'TETCB', 'WDEXB'],"
   ]
  }
 ],
 "metadata": {
  "kernelspec": {
   "display_name": "venv",
   "language": "python",
   "name": "python3"
  },
  "language_info": {
   "codemirror_mode": {
    "name": "ipython",
    "version": 3
   },
   "file_extension": ".py",
   "mimetype": "text/x-python",
   "name": "python",
   "nbconvert_exporter": "python",
   "pygments_lexer": "ipython3",
   "version": "3.9.9 (tags/v3.9.9:ccb0e6a, Nov 15 2021, 18:08:50) [MSC v.1929 64 bit (AMD64)]"
  },
  "orig_nbformat": 4,
  "vscode": {
   "interpreter": {
    "hash": "8f44817b5562e7e0b11fcb3564e2c72dc1905b564c23afc95288e9b9927cb9b6"
   }
  }
 },
 "nbformat": 4,
 "nbformat_minor": 2
}
